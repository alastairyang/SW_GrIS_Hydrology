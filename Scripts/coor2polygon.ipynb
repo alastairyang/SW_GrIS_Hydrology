{
 "cells": [
  {
   "cell_type": "code",
   "execution_count": 1,
   "id": "c022bcbd-aae2-45de-87da-92a6d3b27571",
   "metadata": {},
   "outputs": [
    {
     "name": "stderr",
     "output_type": "stream",
     "text": [
      "/Users/donglaiyang/opt/anaconda3/envs/gis/lib/python3.8/site-packages/pyproj/crs/crs.py:130: FutureWarning: '+init=<authority>:<code>' syntax is deprecated. '<authority>:<code>' is the preferred initialization method. When making the change, be mindful of axis order changes: https://pyproj4.github.io/pyproj/stable/gotchas.html#axis-order-changes-in-proj-6\n",
      "  in_crs_string = _prepare_from_proj_string(in_crs_string)\n",
      "/Users/donglaiyang/opt/anaconda3/envs/gis/lib/python3.8/site-packages/geopandas/io/file.py:362: FutureWarning: pandas.Int64Index is deprecated and will be removed from pandas in a future version. Use pandas.Index with the appropriate dtype instead.\n",
      "  pd.Int64Index,\n"
     ]
    }
   ],
   "source": [
    "import geopandas as gpd\n",
    "from shapely.geometry import Polygon\n",
    "import pandas as pd\n",
    "from pyproj import Transformer\n",
    "\n",
    "FilePath = \"/Users/donglaiyang/Library/Mobile Documents/com~apple~CloudDocs/Documents/Documents_Alastair’s_MacBook_Pro/Buffalo/Courses/Remote Sensing/Project/ROI_latlon.csv\"\n",
    "\n",
    "data = pd.read_csv(FilePath)\n",
    "lat_list = list(data['lat'])\n",
    "lon_list = list(data['lon'])\n",
    "polygon_geom = Polygon(zip(lon_list, lat_list))\n",
    "crs = {'init':'epsg:4326'}\n",
    "polygon_roi = gpd.GeoDataFrame(index=[0],crs=crs,geometry=[polygon_geom])\n",
    "# write to file using geopandas's to_file function\n",
    "polygon_roi.to_file(filename='ROI_polygon.geojson', driver='GeoJSON')"
   ]
  },
  {
   "cell_type": "code",
   "execution_count": null,
   "id": "5079f16a-e1ff-4f91-a2c7-f41fd863b081",
   "metadata": {},
   "outputs": [],
   "source": []
  }
 ],
 "metadata": {
  "kernelspec": {
   "display_name": "Python 3 (ipykernel)",
   "language": "python",
   "name": "python3"
  },
  "language_info": {
   "codemirror_mode": {
    "name": "ipython",
    "version": 3
   },
   "file_extension": ".py",
   "mimetype": "text/x-python",
   "name": "python",
   "nbconvert_exporter": "python",
   "pygments_lexer": "ipython3",
   "version": "3.8.13"
  }
 },
 "nbformat": 4,
 "nbformat_minor": 5
}
